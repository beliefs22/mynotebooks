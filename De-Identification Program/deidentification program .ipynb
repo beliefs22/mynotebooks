{
 "cells": [
  {
   "cell_type": "raw",
   "metadata": {},
   "source": [
    "I'm hoping that I can use this notebook to better organize my thoughts while coding.\n",
    "\n",
    "I'm buidling a de-identification program. The goals is for the program to identify PHI in a document and redact that word. This will be used to help deidentify documents automatically. The goal would be for it to be \"trained\" on a subset of the data so the user can identify ambigiuos words that should be allowed like study ids (eventually we will allow the user to ignore rows that it knows are fine). Then the program can be run on all the records and it will hopefully find mostly words that should be redacted not ambigious words.\n",
    "\n"
   ]
  },
  {
   "cell_type": "code",
   "execution_count": 1,
   "metadata": {
    "collapsed": false
   },
   "outputs": [],
   "source": [
    "#part one is to make functions to pull text from different types of files (txt, csv, .xlsx)\n",
    "\n",
    "def getTextFile(textfile):\n",
    "    \"\"\"yield lines in the text file\n",
    "    \n",
    "    Args:\n",
    "        textfile (path): path to the text file\n",
    "    \n",
    "    Yiedls: the lines in the text file with the newline character removed\"\"\"\n",
    "    with open(textfile,'rb') as thefile:\n",
    "        for line in thefile:\n",
    "            \n",
    "            yield line.strip(\"\\n\")\n",
    "\n",
    "\n",
    "def getCSVFile(csvfile):\n",
    "    \"\"\"yield rows in the csv file\n",
    "    \n",
    "    Args:\n",
    "        textfile (path): path to the file\n",
    "    \n",
    "    Yiedls: the rows in the file\"\"\"\n",
    "    import csv\n",
    "\n",
    "    with open(csvfile, 'rb') as thefile:\n",
    "        csvreader = csv.reader(thefile)\n",
    "        for row in csvreader:\n",
    "            \n",
    "            yield row\n",
    "\n",
    "\n",
    "def getExcelFile(excelfile):\n",
    "    \"\"\"yield rows in the excel file\n",
    "    \n",
    "    Args:\n",
    "        textfile (path): path to the file\n",
    "    \n",
    "    Yiedls: the rows in the file \"\"\"\n",
    "    import openpyxl\n",
    "    \n",
    "    wb = openpyxl.load_workbook(excelfile)\n",
    "    sheet = wb.active\n",
    "    \n",
    "    for row in sheet.iter_rows():\n",
    "        data = [str(cell.value) for cell in row]        \n",
    "        yield data\n",
    "\n",
    "a = getExcelFile('test.xlsx')\n",
    "b = getCSVFile('A_test_csv.csv')\n",
    "c = getTextFile('metadata.txt')"
   ]
  },
  {
   "cell_type": "raw",
   "metadata": {},
   "source": [
    "Next Step is to create a program that takes in the text exposed from the file and parses that text into words.  "
   ]
  },
  {
   "cell_type": "code",
   "execution_count": 2,
   "metadata": {
    "collapsed": false
   },
   "outputs": [],
   "source": [
    "import re\n",
    "\n",
    "def getWords(text):\n",
    "    \"\"\"Returns list of words in the string of text\"\"\"\n",
    "    splitpattern = re.compile(r'[\\s:;\"<>\\.!@#$%^&*\\(/\\\\?,\\)-]')\n",
    "    words = splitpattern.split(text)\n",
    "    for word in words:\n",
    "        if word != \"\":\n",
    "            yield word"
   ]
  },
  {
   "cell_type": "raw",
   "metadata": {},
   "source": [
    "Next step is to create a program that determines if a given word is a Name, A medical word, An english word, or an indeterminate word (due to spelling or belonging to multiple categories)"
   ]
  },
  {
   "cell_type": "code",
   "execution_count": 3,
   "metadata": {
    "collapsed": true
   },
   "outputs": [],
   "source": [
    "import pickle\n",
    "    \n",
    "english_words = pickle.load(open('englishwordslist.p','rb'))\n",
    "medical_words = pickle.load(open('medicalwordlist.p','rb'))\n",
    "first_names = pickle.load(open('firstnameslist.p'))\n",
    "last_names = pickle.load(open('lastnameslist.p'))\n",
    "\n",
    "all_words = {key:value\n",
    "             for dictionary in [english_words, medical_words]\n",
    "             for key,value in dictionary.iteritems()}\n",
    "\n",
    "all_names = {key:value\n",
    "            for dictionary in [first_names, last_names]\n",
    "            for key,value in dictionary.iteritems()}"
   ]
  },
  {
   "cell_type": "code",
   "execution_count": 4,
   "metadata": {
    "collapsed": false,
    "scrolled": true
   },
   "outputs": [],
   "source": [
    "def categorizeWord(word):\n",
    "    word = word.lower()\n",
    "    \n",
    "    if word.isdigit():\n",
    "        return 'allowed'\n",
    "    allowed = is_allowed(word)\n",
    "    prohibited = is_prohibited(word)\n",
    "    # both false\n",
    "    if allowed == True and prohibited == True or allowed == False and prohibited == False:\n",
    "        return 'indeterminate'\n",
    "    \n",
    "    if allowed == True:\n",
    "        return 'allowed'\n",
    "    \n",
    "    if prohibited == True:\n",
    "        return 'prohibited'\n",
    "\n",
    "\n",
    "def is_allowed(word):\n",
    "    return word in all_words\n",
    "\n",
    "def is_prohibited(word):\n",
    "    return word in all_names\n",
    "\n",
    "def removeDates(text):\n",
    "    date_pattern = re.compile(r'[-]*[0-9]{1,2}[\\W][-]*[0-9]{1,2}[\\W][-]*[0-9]{2,4}')\n",
    "    found_dates = date_pattern.findall(text)\n",
    "    modified_text= date_pattern.sub('[REDACTED][date]', text, count=1)\n",
    "    return modified_text  "
   ]
  },
  {
   "cell_type": "raw",
   "metadata": {},
   "source": [
    "Now we need to return modified text to be used to build the files"
   ]
  },
  {
   "cell_type": "code",
   "execution_count": 5,
   "metadata": {
    "collapsed": false
   },
   "outputs": [],
   "source": [
    "def modifyText(text):\n",
    "    words = getWords(text)\n",
    "    modified_text = text[:]\n",
    "    for word in words:\n",
    "        category = categorizeWord(word)\n",
    "        if category == 'allowed':\n",
    "            pass\n",
    "        if category == 'prohibited':\n",
    "            modified_text = modified_text.replace(word,\"[REDACTED][word]\")\n",
    "        if category == 'indetermnate':\n",
    "            modified_text = modified_text.replace(word, \"[IDETERMINATE][\" + word  + \"]\")\n",
    "    return modified_text"
   ]
  },
  {
   "cell_type": "raw",
   "metadata": {},
   "source": [
    "Now we need to write programs to build the files"
   ]
  },
  {
   "cell_type": "code",
   "execution_count": 6,
   "metadata": {
    "collapsed": false,
    "scrolled": true
   },
   "outputs": [
    {
     "name": "stdout",
     "output_type": "stream",
     "text": [
      "Writing data to path /home/beliefs22/mynotebooks/De-Identification Program/output.csv\n",
      "Finished\n",
      "Writing data to path /home/beliefs22/mynotebooks/De-Identification Program/output.xlsx\n",
      "Finished\n",
      "Writing text to path /home/beliefs22/mynotebooks/De-Identification Program/output.txt\n",
      "Finished\n",
      "done\n"
     ]
    }
   ],
   "source": [
    "import os\n",
    "import csv\n",
    "import openpyxl\n",
    "\n",
    "def makeTextFile(lines,filename):\n",
    "    \n",
    "    print \"Writing text to path\", os.getcwd() + \"/\" + filename\n",
    "    with open(filename, 'wb') as output:\n",
    "        for line in lines:\n",
    "            output.write(line + \"\\n\")\n",
    "    print \"Finished\"\n",
    "            \n",
    "\n",
    "def makeCSVFile(rows,filename):\n",
    "    print \"Writing data to path\", os.getcwd() + \"/\" + filename\n",
    "    with open(filename,'wb') as output:\n",
    "        csvwriter = csv.writer(output)\n",
    "        for row in rows:\n",
    "            csvwriter.writerow(row)\n",
    "    print \"Finished\"\n",
    "\n",
    "def makeExcelFile(rows, filename):\n",
    "    print \"Writing data to path\", os.getcwd() + \"/\" + filename    \n",
    "    wb = openpyxl.workbook.Workbook()\n",
    "    sheet = wb.active\n",
    "    for rownum, row in enumerate(rows):\n",
    "        for colnum in range(1,len(row)+1):\n",
    "            sheet.cell(row=rownum+1, column=colnum+1).value = row[colnum-1]\n",
    "    wb.save(filename)\n",
    "    print \"Finished\"\n",
    "\n",
    "new_rows = []\n",
    "outcsv = 'output.csv'\n",
    "for row in b:\n",
    "    one_row = []\n",
    "    for text in row:\n",
    "        new_text = removeDates(text)\n",
    "        new_text = modifyText(new_text)\n",
    "        one_row.append(new_text)\n",
    "    new_rows.append(one_row)\n",
    "    \n",
    "makeCSVFile(new_rows, outcsv)\n",
    "\n",
    "new_rows = []\n",
    "for row in a:\n",
    "    one_row = []\n",
    "    for text in row:\n",
    "        new_text = removeDates(text)\n",
    "        new_text = modifyText(new_text)\n",
    "        one_row.append(new_text)\n",
    "    new_rows.append(one_row)\n",
    "    \n",
    "outexcel = 'output.xlsx'    \n",
    "makeExcelFile(new_rows, outexcel)\n",
    "\n",
    "new_lines = []\n",
    "outtext = 'output.txt'\n",
    "for line in c:\n",
    "    line = removeDates(line)\n",
    "    new_lines.append(modifyText(line))\n",
    "makeTextFile(new_lines,outtext)\n",
    "\n",
    "print \"done\"\n",
    "\n",
    "    "
   ]
  }
 ],
 "metadata": {
  "anaconda-cloud": {},
  "kernelspec": {
   "display_name": "Python [default]",
   "language": "python",
   "name": "python2"
  },
  "language_info": {
   "codemirror_mode": {
    "name": "ipython",
    "version": 2
   },
   "file_extension": ".py",
   "mimetype": "text/x-python",
   "name": "python",
   "nbconvert_exporter": "python",
   "pygments_lexer": "ipython2",
   "version": "2.7.12"
  }
 },
 "nbformat": 4,
 "nbformat_minor": 1
}
